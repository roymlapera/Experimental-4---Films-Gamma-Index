{
 "cells": [
  {
   "cell_type": "code",
   "execution_count": 5,
   "metadata": {
    "collapsed": true
   },
   "outputs": [],
   "source": [
    "import wx\n",
    "import cv2\n",
    "import numpy as np"
   ]
  },
  {
   "cell_type": "code",
   "execution_count": 6,
   "metadata": {
    "collapsed": true
   },
   "outputs": [],
   "source": [
    "def get_paths(wildcard):\n",
    "    app = wx.App(None)\n",
    "    style = wx.FD_OPEN | wx.FD_FILE_MUST_EXIST | wx.MULTIPLE\n",
    "    dialog = wx.FileDialog(None, 'Open', wildcard=wildcard, style=style)\n",
    "    if dialog.ShowModal() == wx.ID_OK:\n",
    "        paths = dialog.GetPaths()\n",
    "    else:\n",
    "        paths = None\n",
    "    dialog.Destroy()\n",
    "    return paths"
   ]
  },
  {
   "cell_type": "code",
   "execution_count": 21,
   "metadata": {},
   "outputs": [],
   "source": [
    "filepaths = get_paths('*.tif')\n",
    "\n",
    "image = []\n",
    "for file_item in filepaths:\n",
    "    image = cv2.imread(file_item , cv2.IMREAD_UNCHANGED)\n",
    "    \n",
    "image_type = image.dtype\n",
    "    \n",
    "ly, lx, lz = image.shape\n",
    "\n",
    "canvas = np.zeros([ ly, lx, lz], dtype = image_type)"
   ]
  },
  {
   "cell_type": "code",
   "execution_count": 22,
   "metadata": {},
   "outputs": [],
   "source": []
  },
  {
   "cell_type": "code",
   "execution_count": 23,
   "metadata": {
    "collapsed": true
   },
   "outputs": [],
   "source": [
    "cv2.imshow('Merged Images', canvas)\n",
    "cv2.waitKey(0)\n",
    "cv2.destroyAllWindows()"
   ]
  },
  {
   "cell_type": "code",
   "execution_count": 24,
   "metadata": {},
   "outputs": [
    {
     "name": "stdout",
     "output_type": "stream",
     "text": [
      "C:/Users/Roy/Desktop/Exp4/Datos/Mendoza (datos nuestros)/Calib 9-4-16\n"
     ]
    }
   ],
   "source": [
    "path_chunks = filepaths[0].split('\\\\')\n",
    "\n",
    "path_only = path_chunks[0]\n",
    "for chunk in range(1,len(path_chunks)-1):\n",
    "    path_only = path_only +'/'+ path_chunks[chunk]\n",
    "\n",
    "print path_only"
   ]
  },
  {
   "cell_type": "code",
   "execution_count": 25,
   "metadata": {},
   "outputs": [
    {
     "data": {
      "text/plain": [
       "True"
      ]
     },
     "execution_count": 25,
     "metadata": {},
     "output_type": "execute_result"
    }
   ],
   "source": [
    "cv2.imwrite(path_only+'/'+'merged_calibration_rotado.tif', canvas)"
   ]
  }
 ],
 "metadata": {
  "kernelspec": {
   "display_name": "Python 3",
   "language": "python",
   "name": "python3"
  },
  "language_info": {
   "codemirror_mode": {
    "name": "ipython",
    "version": 3
   },
   "file_extension": ".py",
   "mimetype": "text/x-python",
   "name": "python",
   "nbconvert_exporter": "python",
   "pygments_lexer": "ipython3",
   "version": "3.7.6"
  }
 },
 "nbformat": 4,
 "nbformat_minor": 1
}
