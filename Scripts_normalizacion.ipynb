{
 "cells": [
  {
   "cell_type": "code",
   "execution_count": 57,
   "metadata": {
    "collapsed": true
   },
   "outputs": [],
   "source": [
    "import wx\n",
    "import dicom\n",
    "import cv2\n",
    "import numpy as np\n",
    "import matplotlib.pyplot as plt"
   ]
  },
  {
   "cell_type": "code",
   "execution_count": 58,
   "metadata": {
    "collapsed": true
   },
   "outputs": [],
   "source": [
    "def get_paths(wildcard):\n",
    "    app = wx.App(None)\n",
    "    style = wx.FD_OPEN | wx.FD_FILE_MUST_EXIST | wx.MULTIPLE\n",
    "    dialog = wx.FileDialog(None, 'Open', wildcard=wildcard, style=style)\n",
    "    if dialog.ShowModal() == wx.ID_OK:\n",
    "        paths = dialog.GetPaths()\n",
    "    else:\n",
    "        paths = None\n",
    "    dialog.Destroy()\n",
    "    return paths"
   ]
  },
  {
   "cell_type": "code",
   "execution_count": 68,
   "metadata": {},
   "outputs": [
    {
     "name": "stdout",
     "output_type": "stream",
     "text": [
      "(256L, 256L)\n"
     ]
    }
   ],
   "source": [
    "# Load dicom 2D distribution (reference image)\n",
    "plan = dicom.read_file('C:\\Users\\Roy\\Desktop\\Exp4\\Datos\\Tailandia\\Siriraj\\planed distribution\\CIRS Phantom IMRT .dcm')\n",
    "planed_array = plan.pixel_array*plan.DoseGridScaling*100.0\n",
    "planed_array = planed_array.astype(np.float32)\n",
    "\n",
    "planed_size = planed_array.shape\n",
    "print planed_size"
   ]
  },
  {
   "cell_type": "code",
   "execution_count": 71,
   "metadata": {},
   "outputs": [
    {
     "name": "stdout",
     "output_type": "stream",
     "text": [
      "[[[  0   0   0]\n",
      "  [  0   0 332]\n",
      "  [  0   0 332]\n",
      "  ..., \n",
      "  [  0   0  81]\n",
      "  [  0   0  73]\n",
      "  [  0   0  73]]\n",
      "\n",
      " [[  0   0 338]\n",
      "  [  0   0 332]\n",
      "  [  0   0 318]\n",
      "  ..., \n",
      "  [  0   0  68]\n",
      "  [  0   0  61]\n",
      "  [  0   0  69]]\n",
      "\n",
      " [[  0   0 321]\n",
      "  [  0   0 332]\n",
      "  [  0   0 316]\n",
      "  ..., \n",
      "  [  0   0  63]\n",
      "  [  0   0  61]\n",
      "  [  0   0  66]]\n",
      "\n",
      " ..., \n",
      " [[  0 324 484]\n",
      "  [  0 325 495]\n",
      "  [  0 326 485]\n",
      "  ..., \n",
      "  [  0 252 238]\n",
      "  [  0 251 238]\n",
      "  [  0 250 243]]\n",
      "\n",
      " [[  0 325 483]\n",
      "  [  0 326 493]\n",
      "  [  0 327 483]\n",
      "  ..., \n",
      "  [  0 251 240]\n",
      "  [  0 250 238]\n",
      "  [  0 249 239]]\n",
      "\n",
      " [[  0 325 255]\n",
      "  [  0 326 495]\n",
      "  [  0 327 495]\n",
      "  ..., \n",
      "  [  0 250 249]\n",
      "  [  0 249 245]\n",
      "  [  0 249 245]]]\n"
     ]
    }
   ],
   "source": [
    "# Load dosimetry image\n",
    "\n",
    "filepaths = get_paths('*.tif')\n",
    "#filename_film = filename_film.encode('utf-8')\n",
    "dosis_image_color = cv2.imread(filepaths[0],-1)\n",
    "dosis_array = dosis_image_color[:,:,2].astype(np.float32) \n",
    "\n",
    "#film_array = 2.0*film_array/film_array.max() # esto es un escaleo arbitrario, debe ser remplazado por la calibracion\n",
    "\n",
    "#film_size = film_image_color.shape\n",
    "#print film_size\n",
    "\n",
    "print dosis_image_color\n"
   ]
  },
  {
   "cell_type": "code",
   "execution_count": 73,
   "metadata": {},
   "outputs": [],
   "source": [
    "color_limits = [planed_array.min(),planed_array.max(),dosis_array.min(),dosis_array.max()]\n",
    "\n",
    "plt.figure()#figsize = (20,20)\n",
    "\n",
    "plt.subplot(121)\n",
    "plt.imshow(planed_array , cmap = 'gray')\n",
    "#plt.axis('off') # to hide tick values on X and Y axis\n",
    "plt.clim(color_limits[0],color_limits[1])\n",
    "\n",
    "plt.subplot(122)\n",
    "plt.imshow(dosis_array , cmap = 'gray', interpolation = 'nearest')\n",
    "#plt.axis('off')\n",
    "plt.clim(color_limits[2],color_limits[3])\n",
    "\n",
    "plt.show()"
   ]
  }
 ],
 "metadata": {
  "kernelspec": {
   "display_name": "Python 3",
   "language": "python",
   "name": "python3"
  },
  "language_info": {
   "codemirror_mode": {
    "name": "ipython",
    "version": 3
   },
   "file_extension": ".py",
   "mimetype": "text/x-python",
   "name": "python",
   "nbconvert_exporter": "python",
   "pygments_lexer": "ipython3",
   "version": "3.7.6"
  }
 },
 "nbformat": 4,
 "nbformat_minor": 1
}
