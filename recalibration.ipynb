{
 "cells": [
  {
   "cell_type": "markdown",
   "metadata": {},
   "source": [
    "# Notebook para la registración de la distribución de dosis 2D medida (film) con la distribución de dosis de referencia (planificada)"
   ]
  },
  {
   "cell_type": "markdown",
   "metadata": {},
   "source": [
    "<b><font color='blue'>Importación de bibliotecas</font></b>"
   ]
  },
  {
   "cell_type": "code",
   "execution_count": 1,
   "metadata": {},
   "outputs": [],
   "source": [
    "import wx\n",
    "\n",
    "import SimpleITK as sitk\n",
    "\n",
    "import numpy as np\n",
    "import matplotlib.pyplot as plt\n",
    "\n",
    "%matplotlib inline\n",
    "from ipywidgets import *\n",
    "\n",
    "from IPython.display import display\n",
    "plt.style.use('ggplot')"
   ]
  },
  {
   "cell_type": "markdown",
   "metadata": {},
   "source": [
    "<b><font color='blue'>Funciones auxiliares</font></b>"
   ]
  },
  {
   "cell_type": "code",
   "execution_count": null,
   "metadata": {},
   "outputs": [],
   "source": [
    "def get_path(wildcard):\n",
    "    app = wx.App(None)\n",
    "    style = wx.FD_OPEN | wx.FD_FILE_MUST_EXIST\n",
    "    dialog = wx.FileDialog(None, 'Open', wildcard=wildcard, style=style)\n",
    "    if dialog.ShowModal() == wx.ID_OK:\n",
    "        path = dialog.GetPath()\n",
    "    else:\n",
    "        path = None\n",
    "    dialog.Destroy()\n",
    "    return path\n",
    "\n",
    "def get_array_extent(array_size, pixel_spacing, origin):\n",
    "    # return extent : scalars (left, right, bottom, top)\n",
    "    x_min = pixel_spacing[0]/2.0 + origin[0] \n",
    "    x_max = array_size[1]*pixel_spacing[0] - pixel_spacing[0]/2.0 + origin[0]\n",
    "    y_min = pixel_spacing[1]/2.0 + origin[1] \n",
    "    y_max = array_size[0]*pixel_spacing[1] - pixel_spacing[1]/2.0 + origin[1]\n",
    "                                                                                                         \n",
    "    return np.array([x_min, x_max, y_max, y_min])"
   ]
  },
  {
   "cell_type": "markdown",
   "metadata": {},
   "source": [
    "<b><font color='blue'>Funciones de visualización</font></b>"
   ]
  },
  {
   "cell_type": "code",
   "execution_count": null,
   "metadata": {
    "collapsed": true
   },
   "outputs": [],
   "source": [
    "def display_array(my_array, array_extent, l_limit = 0.0, u_limit = 300.0):     \n",
    "    \n",
    "    plt.figure(figsize = (8, 8))\n",
    "\n",
    "    plt.imshow(my_array, cmap = 'hot', vmin=l_limit, vmax = u_limit, \n",
    "               interpolation = 'none', extent = array_extent)#\n",
    "\n",
    "    plt.show()\n",
    "    \n",
    "\n",
    "def display_arrays_with_alpha_and_shift(plan_array, film_array, \n",
    "                              plan_extent, film_extent, \n",
    "                              alpha = 0.5,\n",
    "                              plan_l_limit = 0.0, film_l_limit = 5000.0,           \n",
    "                              plan_u_limit = 300.0, film_u_limit = 25000.0, \n",
    "                              film_shift_x = 0.0, film_shift_y = 0.0):\n",
    "    global film_shift      \n",
    "        \n",
    "    film_shift = np.array([film_shift_x, film_shift_y])\n",
    "    \n",
    "    film_extent = [film_extent[0]+film_shift[0], film_extent[1]+film_shift[0], \n",
    "                   film_extent[2]+film_shift[1], film_extent[3]+film_shift[1]]\n",
    "\n",
    "    plt.figure(figsize = (6, 6))\n",
    "\n",
    "    plt.imshow(film_array,  alpha = 1.0,cmap = 'hot', vmin=film_l_limit, vmax = film_u_limit, \n",
    "               interpolation = 'none', extent = film_extent)\n",
    "\n",
    "    plt.imshow(plan_array, alpha = alpha, cmap = 'gray', vmin=plan_l_limit, vmax = plan_u_limit, \n",
    "               interpolation = 'none', extent = plan_extent)\n",
    "   \n",
    "    plt.show()\n",
    "\n",
    "    \n",
    "def display_arrays_with_alpha(plan_array, film_array, \n",
    "                              plan_extent, film_extent, \n",
    "                              alpha = 0.5, \n",
    "                              plan_c_limit = 300.0, film_c_limit = 300.0):\n",
    "    global film_shift      \n",
    "        \n",
    "    plt.figure(figsize = (6, 6))\n",
    "\n",
    "    plt.imshow(film_array,  alpha = 1.0,cmap = 'hot', vmin=0.0, vmax = film_c_limit, \n",
    "               interpolation = 'none', extent = film_extent)\n",
    "\n",
    "    plt.imshow(plan_array,alpha = alpha, cmap = 'gray', vmin=0.0, vmax = plan_c_limit, \n",
    "               interpolation = 'none', extent = plan_extent)\n",
    "   \n",
    "    plt.show()    \n"
   ]
  },
  {
   "cell_type": "markdown",
   "metadata": {},
   "source": [
    "## <b><font color='blue'>Procesamiento de la imagen del film</font></b>\n",
    "<font color='blue'>Utiliza la funcion get_path (que a su vez utiliza de wxpython) para obtener el path del archivo tiff correspondiente al film. Como wx devuelve el path en unicode, se codifica con 'utf-8' para que sitk pueda leer la imagen. Para leer la imagen debe usarse el tipo de variable -1 (unknown) o sitk.sitkVectorInt16 (ya que los films vienen en este tipo de variable).</font>  \n",
    "\n",
    "\n",
    "<font color='blue'>Para calibrar la imagen (dosimétrica y geométricamente), es conveniente trabajar con arrays de numpy. Para hacer eso, se extrae de la imagen el array con sitk.GetArrayFromImage(). Se extrae directamente el canal rojo (tener en cuenta que el rojo es el de íncide cero porque en numpy se ordenan en RGB).</font>  "
   ]
  },
  {
   "cell_type": "code",
   "execution_count": null,
   "metadata": {
    "scrolled": true
   },
   "outputs": [],
   "source": [
    "filename_film = get_path('*.tif')\n",
    "filename_film = filename_film.encode('utf-8')\n",
    "\n",
    "film_image_color = sitk.ReadImage(filename_film, -1)\n",
    "\n",
    "film_array = sitk.GetArrayFromImage(film_image_color)[:,:,0]\n",
    "\n",
    "film_size = film_array.shape\n",
    "\n",
    "\n",
    "film_pixel_spacing = np.float64(film_image_color.GetSpacing())\n",
    "\n",
    "# Coordenadas x, y del pixel superior izquierdo, de tal manera que el (0,0) quede en el centro de la imagen\n",
    "film_origin = np.array([(1 - film_size[1])*film_pixel_spacing[0]/2.0, (1 - film_size[0])*film_pixel_spacing[1]/2.0])\n",
    "\n",
    "film_extent = get_array_extent(film_size, film_pixel_spacing, film_origin)"
   ]
  },
  {
   "cell_type": "markdown",
   "metadata": {},
   "source": [
    "## <b><font color='blue'>Procesamiento de la imagen planificada</font></b> "
   ]
  },
  {
   "cell_type": "code",
   "execution_count": null,
   "metadata": {},
   "outputs": [],
   "source": [
    "# Load dicom 2D distribution (reference image)\n",
    "filename_plan = get_path('*.dcm')\n",
    "filename_plan = filename_plan.encode('utf-8')\n",
    "\n",
    "plan_image_original = sitk.ReadImage(filename_plan, -1) # sitk.sitkVectorInt16\n",
    "\n",
    "dose_scaling =  np.float32(plan_image_original.GetMetaData('3004|000e')) #dose gird scaling\n",
    "\n",
    "plan_array = np.float32(sitk.GetArrayFromImage(plan_image_original)[0,:,:])*dose_scaling*100.0 #por 100.0 para pasar a cGy\n",
    "\n",
    "plan_size = plan_array.shape\n",
    "\n",
    "plan_pixel_spacing = plan_image_original.GetSpacing()[0:2]\n",
    "\n",
    "plan_origin = [(1 - plan_size[1])*plan_pixel_spacing[0]/2.0, (1 - plan_size[0])*plan_pixel_spacing[1]/2.0]\n",
    "\n",
    "plan_extent = get_array_extent(plan_size, plan_pixel_spacing, plan_origin)"
   ]
  },
  {
   "cell_type": "markdown",
   "metadata": {},
   "source": [
    "# <font color='blue'><b>Registración</font></b>\n",
    "<font color='blue'>Aproximación manual inicial</font>"
   ]
  },
  {
   "cell_type": "code",
   "execution_count": null,
   "metadata": {},
   "outputs": [],
   "source": [
    "%matplotlib inline\n",
    "\n",
    "[min_val, max_val] = [film_array.min(), film_array.max()]\n",
    "\n",
    "\n",
    "interact(display_arrays_with_alpha_and_shift, plan_array = fixed(plan_array), film_array =fixed(film_array), \n",
    "                              plan_extent = fixed(plan_extent), film_extent = fixed(film_extent), \n",
    "                              alpha = (0.0,1.0,0.01), \n",
    "                              plan_l_limit = (0.0,300.0,1.0), film_l_limit = (min_val,max_val,1.0),   \n",
    "                              plan_u_limit = (0.0,300.0,1.0), film_u_limit = (min_val,max_val,1.0), \n",
    "                              film_shift_x =(-200.0,200.0,0.5),film_shift_y =(-200.0,200.0,0.5))\n",
    "\n",
    "# Siriraj: shift_x = -7.0, shift_y = -18.0"
   ]
  },
  {
   "cell_type": "markdown",
   "metadata": {},
   "source": [
    "<b><font color='blue'>Recomposición del film y de la planificación como imagenes de ITK</font></b>\n",
    "\n",
    "<font color='blue'>Construyo una imagen nuevamente con el film calibrado y le paso la metadata (incluyendo el origen calculado)</font>"
   ]
  },
  {
   "cell_type": "code",
   "execution_count": null,
   "metadata": {},
   "outputs": [],
   "source": [
    "\n",
    "film_image = sitk.GetImageFromArray(film_array)\n",
    "\n",
    "film_image.SetSpacing(film_pixel_spacing)\n",
    "\n",
    "#vuelvo a calcular film_origin por las dudas se ejecute esta celda mas de una vez (evitando la acumulacion en la suma)\n",
    "film_origin = np.array([(1 - film_size[1])*film_pixel_spacing[0]/2.0, (1 - film_size[0])*film_pixel_spacing[1]/2.0])\n",
    "\n",
    "film_origin = film_origin + film_shift\n",
    "\n",
    "film_image.SetOrigin(film_origin)\n",
    "\n",
    "\n",
    "# para la imagen planificada\n",
    "\n",
    "plan_image = sitk.GetImageFromArray(plan_array)\n",
    "\n",
    "plan_image.SetSpacing(plan_pixel_spacing)\n",
    "\n",
    "plan_image.SetOrigin(plan_origin)\n",
    "\n",
    "\n",
    "print film_shift\n",
    "print film_origin\n",
    "\n",
    "print film_image.GetPixelIDTypeAsString()\n",
    "print film_image.GetPixelID()\n",
    "print plan_image.GetPixelIDTypeAsString()\n",
    "print plan_image.GetPixelID()"
   ]
  },
  {
   "cell_type": "markdown",
   "metadata": {},
   "source": [
    "<b><font color='blue'>Interpolación</font></b>\n",
    "\n",
    "<font color='blue'>(no es necesaria pero ayuda a la calibración)</font>"
   ]
  },
  {
   "cell_type": "code",
   "execution_count": null,
   "metadata": {},
   "outputs": [],
   "source": [
    "#reference_image = image\n",
    "interpolator = sitk.sitkLinear\n",
    "identity = sitk.Transform(2, sitk.sitkIdentity)\n",
    "default_value = 9000.0\n",
    "reference_image = film_image\n",
    "image = plan_image\n",
    "plan_image_resampled = sitk.Resample(image, reference_image, identity,\n",
    "                          interpolator, default_value)"
   ]
  },
  {
   "cell_type": "code",
   "execution_count": null,
   "metadata": {},
   "outputs": [],
   "source": [
    "\n",
    "plan_array_resampled = sitk.GetArrayFromImage(plan_image_resampled)\n",
    "\n",
    "plan_size_resampled = plan_array_resampled.shape\n",
    "\n",
    "plan_pixel_spacing_resampled = plan_image_resampled.GetSpacing()[0:2]\n",
    "\n",
    "plan_origin_resampled = plan_image_resampled.GetOrigin()\n",
    "\n",
    "plan_extent_resampled = get_array_extent(plan_size_resampled, plan_pixel_spacing_resampled, plan_origin_resampled)\n",
    "\n",
    "print plan_image_resampled.GetSize()\n",
    "print plan_image_resampled.GetSpacing()\n",
    "print plan_origin_resampled"
   ]
  },
  {
   "cell_type": "markdown",
   "metadata": {},
   "source": [
    "Las grafico juntas nuevamente solo para chequear la registracion"
   ]
  },
  {
   "cell_type": "code",
   "execution_count": null,
   "metadata": {
    "scrolled": true
   },
   "outputs": [],
   "source": [
    "%matplotlib inline\n",
    "\n",
    "plan_extent = get_array_extent(plan_size, plan_pixel_spacing, plan_origin)\n",
    "film_extent = get_array_extent(film_size, film_pixel_spacing, film_origin)\n",
    "\n",
    "\n",
    "interact(display_arrays_with_alpha, \n",
    "         plan_array = fixed(plan_array_resampled), film_array =fixed(film_array), \n",
    "         plan_extent = fixed(plan_extent_resampled), film_extent = fixed(film_extent), \n",
    "         alpha = (0.0,1.0,0.01), \n",
    "         plan_c_limit = (0.0,300.0,1.0), film_c_limit = (0.0,max_val,1.0)); \n",
    "         \n",
    "        "
   ]
  },
  {
   "cell_type": "code",
   "execution_count": null,
   "metadata": {
    "collapsed": true
   },
   "outputs": [],
   "source": [
    "norm_ind = film_image.TransformPhysicalPointToIndex([15.0,-25.0])\n",
    "norm_val = film_image[norm_ind]\n",
    "print norm_val"
   ]
  }
 ],
 "metadata": {
  "kernelspec": {
   "display_name": "Python 3",
   "language": "python",
   "name": "python3"
  },
  "language_info": {
   "codemirror_mode": {
    "name": "ipython",
    "version": 3
   },
   "file_extension": ".py",
   "mimetype": "text/x-python",
   "name": "python",
   "nbconvert_exporter": "python",
   "pygments_lexer": "ipython3",
   "version": "3.7.6"
  },
  "widgets": {
   "state": {
    "02ef9196b0ae46b2b52359dfbc5d2524": {
     "views": []
    },
    "05304640ef28454cad5e5834fccbf67d": {
     "views": []
    },
    "0639ebd4b4684d58b9a6453b9edaea02": {
     "views": []
    },
    "0f782febf83b4785bd325e9ecc7369b4": {
     "views": [
      {
       "cell_index": 10
      }
     ]
    },
    "106219ca40a34f2e9b8bf87cbf5c02b5": {
     "views": []
    },
    "14cc00ed93e548819fb83a42d24a9cac": {
     "views": []
    },
    "16bf44c4b0d24f07863f7e5a382ebbb8": {
     "views": []
    },
    "179362ca66c84a9380ea7d6993174955": {
     "views": [
      {
       "cell_index": 23
      }
     ]
    },
    "1975cd7b4e734a7392a92657bd138c18": {
     "views": []
    },
    "1a1300354c264146993a2eb579c82a36": {
     "views": []
    },
    "1b8a2ccd05f04a1bb51a5bcb407bf916": {
     "views": []
    },
    "1cef533ef2074a9d8f1906ab51a0e226": {
     "views": []
    },
    "1d7fe8d06a464897a0189357824089b3": {
     "views": []
    },
    "20ceb987640b47fc9a773df0fac96e14": {
     "views": []
    },
    "27d7ead9037543ebb0111574aa4ad085": {
     "views": []
    },
    "2a0da68a21534da78c8fa2cbef80833b": {
     "views": []
    },
    "2a6ea7c1ddbd4f23a0df3a0fca88352e": {
     "views": []
    },
    "39cf882aff794653b6d6fe8375a46650": {
     "views": []
    },
    "39ef5eb8482c485881235413d7ae5c2d": {
     "views": []
    },
    "3b156a0728614cfa9d37bfc9ae1f6e02": {
     "views": []
    },
    "3c8b2b32a61f4bfe95f85a67507318b6": {
     "views": []
    },
    "3d0c379e06b64be6a147c9b75bfaac80": {
     "views": []
    },
    "41f9ecbfc021413ba94314c66485b297": {
     "views": []
    },
    "45699be4175b475c9d56de3b9e88dbf7": {
     "views": []
    },
    "49457d94f3bf45db849ed52efc587a03": {
     "views": []
    },
    "4afa96d1043142dd97dd4f0446090a38": {
     "views": []
    },
    "508b143e6ffe470c9a73e619040bdada": {
     "views": []
    },
    "537a40579c0e4ad5a30eb76c1a34595f": {
     "views": []
    },
    "54a6b2e957e4499bbd1424b831e3b325": {
     "views": []
    },
    "56c14a586f404c9f947fa719abd01a99": {
     "views": []
    },
    "5bc3ab1c05944b0a9c2dd660cc218cac": {
     "views": []
    },
    "5c7aa1247e434a07a5ae67fd8cebf495": {
     "views": []
    },
    "5dfaec0e552142338df17b4ab71e89ff": {
     "views": []
    },
    "60156daf0173436ab5419c78d3801190": {
     "views": []
    },
    "611bb9e92a3d4197a6f4230b67c09b8e": {
     "views": [
      {
       "cell_index": 16
      }
     ]
    },
    "6522e8c2ab02458cbf1caaa0af376b08": {
     "views": []
    },
    "6acf17f1cfc2406fb836dc17872223a1": {
     "views": []
    },
    "6d45950a113842fba6821589545b34c2": {
     "views": []
    },
    "6ec94466a236470081ebc7cf7f9ab8c4": {
     "views": []
    },
    "6f968cdb29c84541bec3e35376781d2e": {
     "views": []
    },
    "71d9b45cf80147a0889991e7ca2b6083": {
     "views": []
    },
    "784380f2f66649878299dc506f0f8762": {
     "views": [
      {
       "cell_index": 14
      }
     ]
    },
    "7c1ceee882ef48908e1cda624f6aeed8": {
     "views": []
    },
    "81630095b1ff48e8a59cbdb9454f2098": {
     "views": []
    },
    "81825f2abe344443a4dbd73e9c4a9c7b": {
     "views": []
    },
    "841392ac10a24508afc336764db097d1": {
     "views": []
    },
    "84cca8b49f7a4a5bae2ee059cf02d354": {
     "views": []
    },
    "850e688ee2a84dbfa4ccf1aab63a00b2": {
     "views": []
    },
    "867b1d3d76d84a8fbeae83c2ca9bf35c": {
     "views": []
    },
    "8a776bd0d01b4356ab6f2cdf0c90d71c": {
     "views": []
    },
    "8a8fe56af7e4423794237f20f1cbd208": {
     "views": []
    },
    "91a7da34d92a4085a569d782fe95f6ca": {
     "views": []
    },
    "921c48ac95e04386a400baf333dc78e8": {
     "views": []
    },
    "969bebf213954043a73c0290c85f2b2d": {
     "views": []
    },
    "98108b6f053344748fc579825c868732": {
     "views": []
    },
    "a5357e87cbad421bb1affa1872dfa2f3": {
     "views": []
    },
    "a5d170e1f6ae458ebb527ab70fc903c6": {
     "views": []
    },
    "a91172445b9a49f2b2dce59a0d820543": {
     "views": []
    },
    "ad4db7eed0f5421ba5f22abbead475a7": {
     "views": []
    },
    "b2e25c0665d04562a8d6c4b239e20706": {
     "views": []
    },
    "bbd54fce66034a219f44ce5f17bf7ec7": {
     "views": []
    },
    "bd8a713f108446d393ea9a228b2c7dc8": {
     "views": []
    },
    "bdd3d9142cea47a2a1b34cb81c1e7e8f": {
     "views": []
    },
    "c0da20dd779b4157b81e2156090c89e6": {
     "views": []
    },
    "c1fbdcc5355a410bb3b26d177787d43a": {
     "views": []
    },
    "c40855afbf3e442bba11ddf5db899f9f": {
     "views": []
    },
    "c7f852bb1a1d4d3eacd18dfd50f1d022": {
     "views": []
    },
    "d155290b3851498d8d70262d5f433c6e": {
     "views": []
    },
    "d267dfb5620d4944806a129eb2cfbf48": {
     "views": []
    },
    "d66dd54b289d4e8893ba644142065949": {
     "views": []
    },
    "dbdca6769aa347cfa15c441b97472303": {
     "views": []
    },
    "deff5833177545eca0114eec8b67df02": {
     "views": []
    },
    "e60094f7a3b14622b3e83eb4d83f3c69": {
     "views": []
    },
    "eb3ec2a4a63641d6b85493244b227f6f": {
     "views": []
    },
    "ee146a43be1f4774a92bc0ef0acd04e7": {
     "views": []
    },
    "ef6dcd6aeb204b2db88641995b1e8ad3": {
     "views": []
    },
    "f0ca57bf354743c2b29e0d62916908ff": {
     "views": []
    },
    "f1529b4beccc4b2284fa89ad942b261f": {
     "views": []
    },
    "f3414f47666e447d8962f3f843cd9d88": {
     "views": []
    },
    "f409374eab494110bef735b3d7ae8e5d": {
     "views": []
    },
    "f4bb68baa0e44c5d8d3ddbbd959e758f": {
     "views": []
    },
    "f9d9e9e8fbf84532a761191162b55af5": {
     "views": [
      {
       "cell_index": 22
      }
     ]
    }
   },
   "version": "1.1.1"
  }
 },
 "nbformat": 4,
 "nbformat_minor": 1
}
