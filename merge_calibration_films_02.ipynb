{
 "cells": [
  {
   "cell_type": "markdown",
   "metadata": {},
   "source": [
    "## Notebook para hacer el merge de varias imagenes tiff"
   ]
  },
  {
   "cell_type": "code",
   "execution_count": 1,
   "metadata": {
    "collapsed": true
   },
   "outputs": [],
   "source": [
    "import wx\n",
    "import cv2\n",
    "import numpy as np"
   ]
  },
  {
   "cell_type": "code",
   "execution_count": 2,
   "metadata": {
    "collapsed": true
   },
   "outputs": [],
   "source": [
    "def get_paths(wildcard):\n",
    "    app = wx.App(None)\n",
    "    style = wx.FD_OPEN | wx.FD_FILE_MUST_EXIST | wx.MULTIPLE\n",
    "    dialog = wx.FileDialog(None, 'Open', wildcard=wildcard, style=style)\n",
    "    if dialog.ShowModal() == wx.ID_OK:\n",
    "        paths = dialog.GetPaths()\n",
    "    else:\n",
    "        paths = None\n",
    "    dialog.Destroy()\n",
    "    return paths"
   ]
  },
  {
   "cell_type": "code",
   "execution_count": 3,
   "metadata": {
    "collapsed": true
   },
   "outputs": [],
   "source": [
    "filepaths = get_paths('*.tif')\n",
    "\n",
    "images = []\n",
    "for file_item in filepaths:\n",
    "    images.append(cv2.imread(file_item , cv2.IMREAD_UNCHANGED))"
   ]
  },
  {
   "cell_type": "code",
   "execution_count": 4,
   "metadata": {},
   "outputs": [],
   "source": [
    "# Esta cuenta asume que todas las imagenes cargadas tienen las mismas dimensiones \n",
    "# hacer el primer cuadrado mas grande que los demas\n",
    "\n",
    "N = len(images)\n",
    "\n",
    "ly, lx, lz = images[0].shape\n",
    "\n",
    "image_type = images[0].dtype\n",
    "\n",
    "A4_ratio = 1.414\n",
    "\n",
    "nx = np.round(np.sqrt(N*ly/lx*A4_ratio))#.astype(np.int8)\n",
    "\n",
    "ny = np.ceil(N/nx)\n",
    "\n",
    "# Crea una imagen en blanco (donde se acomodaran las imagenes cargadas) con una distribución que se parece a una hoja A4\n",
    "canvas = np.zeros([np.int32(ny*ly),np.int32(nx*lx), lz], dtype = image_type)"
   ]
  },
  {
   "cell_type": "code",
   "execution_count": 5,
   "metadata": {},
   "outputs": [
    {
     "ename": "ValueError",
     "evalue": "could not broadcast input array from shape (180,188,3) into shape (183,189,3)",
     "output_type": "error",
     "traceback": [
      "\u001b[1;31m---------------------------------------------------------------------------\u001b[0m",
      "\u001b[1;31mValueError\u001b[0m                                Traceback (most recent call last)",
      "\u001b[1;32m<ipython-input-5-b470fca1e8d6>\u001b[0m in \u001b[0;36m<module>\u001b[1;34m()\u001b[0m\n\u001b[0;32m      9\u001b[0m     \u001b[0mi\u001b[0m \u001b[1;33m=\u001b[0m \u001b[0mn_y\u001b[0m\u001b[1;33m*\u001b[0m\u001b[0mly\u001b[0m\u001b[1;33m\u001b[0m\u001b[0m\n\u001b[0;32m     10\u001b[0m \u001b[1;33m\u001b[0m\u001b[0m\n\u001b[1;32m---> 11\u001b[1;33m     \u001b[0mcanvas\u001b[0m\u001b[1;33m[\u001b[0m\u001b[0mi\u001b[0m\u001b[1;33m:\u001b[0m\u001b[0mi\u001b[0m\u001b[1;33m+\u001b[0m\u001b[0mly\u001b[0m\u001b[1;33m,\u001b[0m \u001b[0mj\u001b[0m\u001b[1;33m:\u001b[0m\u001b[0mj\u001b[0m\u001b[1;33m+\u001b[0m\u001b[0mlx\u001b[0m\u001b[1;33m,\u001b[0m \u001b[1;33m:\u001b[0m\u001b[1;33m]\u001b[0m \u001b[1;33m=\u001b[0m \u001b[0mimage\u001b[0m\u001b[1;33m\u001b[0m\u001b[0m\n\u001b[0m\u001b[0;32m     12\u001b[0m \u001b[1;33m\u001b[0m\u001b[0m\n\u001b[0;32m     13\u001b[0m     \u001b[0mn_x\u001b[0m \u001b[1;33m+=\u001b[0m \u001b[1;36m1\u001b[0m\u001b[1;33m\u001b[0m\u001b[0m\n",
      "\u001b[1;31mValueError\u001b[0m: could not broadcast input array from shape (180,188,3) into shape (183,189,3)"
     ]
    }
   ],
   "source": [
    "i = 0\n",
    "j = 0\n",
    "n_x = 0\n",
    "n_y = 0\n",
    "\n",
    "for image in images:\n",
    "    \n",
    "    j = n_x*lx\n",
    "    i = n_y*ly\n",
    "    \n",
    "    canvas[i:i+ly, j:j+lx, :] = image\n",
    "       \n",
    "    n_x += 1\n",
    "       \n",
    "    if not n_x%nx:\n",
    "        n_y +=1\n",
    "        n_x = 0\n",
    "         \n",
    "    "
   ]
  },
  {
   "cell_type": "code",
   "execution_count": 14,
   "metadata": {},
   "outputs": [],
   "source": [
    "cv2.imshow('Merged Images', canvas)\n",
    "cv2.waitKey(0)\n",
    "cv2.destroyAllWindows()"
   ]
  },
  {
   "cell_type": "code",
   "execution_count": 15,
   "metadata": {},
   "outputs": [
    {
     "name": "stdout",
     "output_type": "stream",
     "text": [
      "C:/Users/Roy/Desktop/Exp4/Datos/Tailandia/Ramathibodi/film calibration\n"
     ]
    }
   ],
   "source": [
    "path_chunks = filepaths[0].split('\\\\')\n",
    "\n",
    "path_only = path_chunks[0]\n",
    "for chunk in range(1,len(path_chunks)-1):\n",
    "    path_only = path_only +'/'+ path_chunks[chunk]\n",
    "\n",
    "print path_only"
   ]
  },
  {
   "cell_type": "code",
   "execution_count": 16,
   "metadata": {},
   "outputs": [
    {
     "data": {
      "text/plain": [
       "True"
      ]
     },
     "execution_count": 16,
     "metadata": {},
     "output_type": "execute_result"
    }
   ],
   "source": [
    "cv2.imwrite(path_only+'/'+'merged_calibration.tif', canvas)"
   ]
  }
 ],
 "metadata": {
  "kernelspec": {
   "display_name": "Python 3",
   "language": "python",
   "name": "python3"
  },
  "language_info": {
   "codemirror_mode": {
    "name": "ipython",
    "version": 3
   },
   "file_extension": ".py",
   "mimetype": "text/x-python",
   "name": "python",
   "nbconvert_exporter": "python",
   "pygments_lexer": "ipython3",
   "version": "3.7.6"
  }
 },
 "nbformat": 4,
 "nbformat_minor": 1
}
